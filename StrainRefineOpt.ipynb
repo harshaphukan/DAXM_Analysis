{
 "cells": [
  {
   "cell_type": "code",
   "execution_count": 14,
   "metadata": {},
   "outputs": [
    {
     "name": "stdout",
     "output_type": "stream",
     "text": [
      "[[  1.00040664e+00  -6.58806474e-04  -7.23712674e-04]\n",
      " [ -7.35499961e-04   9.97777445e-01  -3.81303211e-03]\n",
      " [  5.94108162e-04   5.01779075e-04   1.00215183e+00]]\n",
      "1.00033295966\n",
      "[[  9.99593583e-01   7.34572697e-04  -5.92959351e-04]\n",
      " [  6.59641337e-04   1.00222607e+00  -5.02207305e-04]\n",
      " [  7.24375045e-04   3.81384506e-03   9.97850450e-01]]\n",
      "0.999667151168\n",
      "1.0\n",
      "[[  9.99704746e-01   6.98460073e-04   6.43971609e-05]\n",
      " [  6.98460073e-04   1.00234322e+00   1.65103664e-03]\n",
      " [  6.43971609e-05   1.65103664e-03   9.97960120e-01]]\n",
      "[[ 1.0030357   0.          0.        ]\n",
      " [ 0.          0.99957617  0.        ]\n",
      " [ 0.          0.          0.99739622]]\n",
      "1.0\n",
      "[[ 1.0015167   0.          0.        ]\n",
      " [ 0.          0.99978806  0.        ]\n",
      " [ 0.          0.          0.99869726]]\n",
      "[[  9.99756266e-01   3.83640295e-04  -2.89044382e-04]\n",
      " [  3.83640295e-04   1.00141875e+00   2.57700568e-04]\n",
      " [ -2.89044382e-04   2.57700568e-04   9.98827009e-01]]\n",
      "[[-0.00024373  0.00038364 -0.00028904]\n",
      " [ 0.00038364  0.00141875  0.0002577 ]\n",
      " [-0.00028904  0.0002577  -0.00117299]]\n"
     ]
    }
   ],
   "source": [
    "X=sol.x\n",
    "\n",
    "FStar=X.reshape(3,3)\n",
    "print FStar\n",
    "print La.det(FStar)\n",
    "F=La.inv(FStar.T)\n",
    "\n",
    "print F\n",
    "print La.det(F)\n",
    "Fd=F/(np.abs(La.det(F)))**(1/3.0)\n",
    "\n",
    "print La.det(Fd)\n",
    "\n",
    "\n",
    "GK=La.polar(Fd)\n",
    "\n",
    "print GK[1]\n",
    "\n",
    "Eig=La.eig(GK[1])\n",
    "\n",
    "\n",
    "V=Eig[1].T\n",
    "D=np.eye(3,3)\n",
    "\n",
    "D[0,0]=np.real(Eig[0][0])\n",
    "D[1,1]=np.real(Eig[0][1])\n",
    "D[2,2]=np.real(Eig[0][2])\n",
    "print D\n",
    "print La.norm(V[:,2])\n",
    "\n",
    "D[0,0],D[1,1],D[2,2]=np.sqrt(D[0,0]),np.sqrt(D[1,1]),np.sqrt(D[2,2])\n",
    "\n",
    "print D\n",
    "\n",
    "Usqrt=np.dot(V,D)\n",
    "Usqrt=np.dot(Usqrt,La.inv(V))\n",
    "\n",
    "print Usqrt\n",
    "\n",
    "STensor=Usqrt-np.eye(3,3)\n",
    "\n",
    "print STensor"
   ]
  },
  {
   "cell_type": "code",
   "execution_count": null,
   "metadata": {
    "collapsed": true
   },
   "outputs": [],
   "source": []
  }
 ],
 "metadata": {
  "kernelspec": {
   "display_name": "Python 2",
   "language": "python",
   "name": "python2"
  },
  "language_info": {
   "codemirror_mode": {
    "name": "ipython",
    "version": 2
   },
   "file_extension": ".py",
   "mimetype": "text/x-python",
   "name": "python",
   "nbconvert_exporter": "python",
   "pygments_lexer": "ipython2",
   "version": "2.7.13"
  }
 },
 "nbformat": 4,
 "nbformat_minor": 2
}
